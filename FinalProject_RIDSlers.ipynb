{
 "cells": [
  {
   "cell_type": "markdown",
   "metadata": {
    "id": "JjUIv9CH1jLF"
   },
   "source": [
    "# UC San Diego: Neural Data Science\n",
    "## Final Project Title (change this to your project's title)"
   ]
  },
  {
   "cell_type": "markdown",
   "metadata": {
    "id": "qP7cEOOj1jLI"
   },
   "source": [
    "## Permissions\n",
    "\n",
    "Place an `X` in the appropriate bracket below to specify if you would like your group's project to be made available to the public. (Note that student names will be included (but PIDs will be scraped from any groups who include their PIDs).\n",
    "\n",
    "* [x] YES - make available\n",
    "* [  ] NO - keep private"
   ]
  },
  {
   "cell_type": "markdown",
   "metadata": {
    "id": "ypKjsIz91jLJ"
   },
   "source": [
    "# Names\n",
    "\n",
    "- Sidney Ma\n",
    "- Dibyesh Sahoo\n",
    "- Ryan Ho\n",
    "- Ishaan Chadha"
   ]
  },
  {
   "cell_type": "markdown",
   "metadata": {
    "id": "STdLtZHl1jLJ"
   },
   "source": [
    "# Overview"
   ]
  },
  {
   "cell_type": "markdown",
   "metadata": {
    "id": "ac5KccCw1jLJ"
   },
   "source": [
    "* Write a clear, 3-4 sentence summary of what you did and why.\n",
    "\n",
    "We analyzed EEG signals from a group of people listening to naturalistic songs in order to predict the tempo of the song. First, we averaged the EEG signals of participants listening to a single song and applied PCA to extract meaningful data. This approach was based on a previous study that found tempo is related to spikes in the PCA signal. We then applied this method to a new dataset and used smoothing algorithms to enhance the accuracy of tempo calculations by identifying the peaks in the signal."
   ]
  },
  {
   "cell_type": "markdown",
   "metadata": {
    "id": "ntFFkMAK1jLJ"
   },
   "source": [
    "<a id='research_question'></a>\n",
    "# Research Question"
   ]
  },
  {
   "cell_type": "markdown",
   "metadata": {
    "id": "8KMIBRkF1jLK"
   },
   "source": [
    "* One sentence that describes the question you address in your project. Make sure what you’re measuring (variables) to answer your question is clear!\n",
    "\n",
    "Using only EEG data of participants listening to music, is it possible to accurately predict the tempo of the songs they were listening to?"
   ]
  },
  {
   "cell_type": "markdown",
   "metadata": {
    "id": "aRdy_okz1jLK"
   },
   "source": [
    "<a id='background'></a>\n",
    "\n",
    "## Background & Prior Work"
   ]
  },
  {
   "cell_type": "markdown",
   "metadata": {
    "id": "-rs3ZnXR1jLL"
   },
   "source": [
    "* In 2-3 paragraphs, describe the motivation behind your question. What’s the big picture, and why is it interesting? Are there published papers addressing aspects of your question? You should cite at least three primary references here. You are welcome to replicate published papers using publicly available data, just cite them and explain why!\n",
    "\n",
    "Background:\n",
    "- what is tempo?\n",
    "- why hard to extract from audio? not apparent in waveform\n",
    "- paradox: humans are really good at feeling tempo and beat structure\n",
    "- maybe tempo is apparent in EEG data?\n",
    "- something about how this paradigm is used for visual stimuli (source)\n",
    "- source 1: yes, it is apparent in EEG data.\n",
    "- however, while it is obviously subjectively similar, we want to prove it numerically/metrically\n",
    "- why?\n",
    "- to prove this, we developed a pipeline to estimate the tempo as accurately as possible.\n",
    "- we ran this on all 10 songs from study 1, and all 4 songs from study 2.\n",
    "- why measuring accuracy with tempo is complicated\n",
    "\n",
    "References (include links):\n",
    "- 1) https://ccrma.stanford.edu/~blairbo/assets/pdf/losorelli2017ISMIR.pdf\n",
    "- 2) https://purl.stanford.edu/jn859kj8079\n",
    "- 3) https://www.sciencedirect.com/science/article/pii/S105381192030046X?via%3Dihub\n",
    "- 4) https://purl.stanford.edu/sd922db3535"
   ]
  },
  {
   "cell_type": "markdown",
   "metadata": {
    "id": "rymPn0nC1jLL"
   },
   "source": [
    "# Hypothesis\n"
   ]
  },
  {
   "cell_type": "markdown",
   "metadata": {
    "id": "Rj6wP3DB1jLL"
   },
   "source": [
    "*Fill in your hypotheses here*\n",
    "\n",
    "We expect that it is possible to estimate the tempo accurately. However, we will not be able to account for octave differences (i.e. our algorithm will not distinguish tempo $T$ from tempo $T*2^N$)."
   ]
  },
  {
   "cell_type": "markdown",
   "metadata": {
    "id": "32Zmp0PI1jLL"
   },
   "source": [
    "# Dataset(s)"
   ]
  },
  {
   "cell_type": "markdown",
   "metadata": {
    "id": "FhWXEgT61jLL"
   },
   "source": [
    "*Fill in your dataset information here*\n",
    "\n",
    "(Copy this information for each dataset)\n",
    "\n",
    "https://purl.stanford.edu/jn859kj8079 (NMED-T)\n",
    "\n",
    "https://purl.stanford.edu/sd922db3535 (NMED-H)\n",
    "\n",
    "- Dataset Name:\n",
    "- Link to the dataset:\n",
    "- Number of observations:\n",
    "\n",
    "1-2 sentences describing each dataset.\n",
    "\n",
    "If you plan to use multiple datasets, add 1-2 sentences about how you plan to combine these datasets."
   ]
  },
  {
   "cell_type": "markdown",
   "metadata": {
    "id": "gI1hvLW41jLM"
   },
   "source": [
    "# Data Wrangling"
   ]
  },
  {
   "cell_type": "markdown",
   "metadata": {
    "id": "yVfQqCnt1jLM"
   },
   "source": [
    "* Explain steps taken to pull the data you need into Python."
   ]
  },
  {
   "cell_type": "code",
   "execution_count": null,
   "metadata": {
    "id": "dIwAKR8F1jLM"
   },
   "outputs": [],
   "source": [
    "## YOUR CODE HERE"
   ]
  },
  {
   "cell_type": "markdown",
   "metadata": {
    "id": "hes97ywQ1jLN"
   },
   "source": [
    "# Data Cleaning"
   ]
  },
  {
   "cell_type": "markdown",
   "metadata": {
    "id": "amsImEzG1jLN"
   },
   "source": [
    "* Describe your data cleaning steps here."
   ]
  },
  {
   "cell_type": "code",
   "execution_count": null,
   "metadata": {
    "id": "I6gzWLx61jLN"
   },
   "outputs": [],
   "source": [
    "## YOUR CODE HERE\n",
    "## FEEL FREE TO ADD MULTIPLE CELLS PER SECTION"
   ]
  },
  {
   "cell_type": "markdown",
   "metadata": {
    "id": "ZaNHX_Ri1jLN"
   },
   "source": [
    "# Data Visualization"
   ]
  },
  {
   "cell_type": "markdown",
   "metadata": {
    "id": "yWlYRgwy1jLN"
   },
   "source": [
    "* This is a good place for some relevant visualizations related to any exploratory data anlayses (EDA) you did after the basic cleaning."
   ]
  },
  {
   "cell_type": "markdown",
   "metadata": {
    "id": "8pDzM8f71jLN"
   },
   "source": [
    "# Data Analysis & Results"
   ]
  },
  {
   "cell_type": "markdown",
   "metadata": {
    "id": "Ait3QIOG1jLN"
   },
   "source": [
    "* Include cells that describe the steps in your data analysis.\n",
    "* You'll likely also have some visualizations here as well."
   ]
  },
  {
   "cell_type": "code",
   "execution_count": null,
   "metadata": {
    "id": "rPLWvDSZ1jLN"
   },
   "outputs": [],
   "source": [
    "## YOUR CODE HERE\n",
    "## FEEL FREE TO ADD MULTIPLE CELLS PER SECTION"
   ]
  },
  {
   "cell_type": "markdown",
   "metadata": {
    "id": "w0bJprCC1jLN"
   },
   "source": [
    "# Conclusion & Discussion"
   ]
  },
  {
   "cell_type": "markdown",
   "metadata": {
    "id": "nOkpBMiJ1jLN"
   },
   "source": [
    "* Discussion of your results and how they address your experimental question(s).\n",
    "* Discussed limitations of your analyses.\n",
    "* You can also discuss future directions you'd like to pursue."
   ]
  }
 ],
 "metadata": {
  "colab": {
   "provenance": []
  },
  "kernelspec": {
   "display_name": "Python 3 (ipykernel)",
   "language": "python",
   "name": "python3"
  },
  "language_info": {
   "codemirror_mode": {
    "name": "ipython",
    "version": 3
   },
   "file_extension": ".py",
   "mimetype": "text/x-python",
   "name": "python",
   "nbconvert_exporter": "python",
   "pygments_lexer": "ipython3",
   "version": "3.11.4"
  }
 },
 "nbformat": 4,
 "nbformat_minor": 1
}
