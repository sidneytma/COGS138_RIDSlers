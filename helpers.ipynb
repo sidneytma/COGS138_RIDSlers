{
 "cells": [
  {
   "cell_type": "code",
   "execution_count": null,
   "id": "fa7c0734",
   "metadata": {},
   "outputs": [],
   "source": [
    "def mov_max(x, window_size):\n",
    "    \n",
    "    half_window = window_size // 2\n",
    "    result = np.zeros_like(x, dtype=float)\n",
    "    \n",
    "    for i in range(len(x)):\n",
    "        start = max(0, i - half_window)\n",
    "        end = min(len(x), i + half_window + 1)\n",
    "        \n",
    "        window = x[start:end]\n",
    "        \n",
    "        result[i] = np.max(window)\n",
    "    \n",
    "    return result\n",
    "\n",
    "def mov_avg_exc(x, window_size):\n",
    "    \n",
    "    half_window = window_size // 2\n",
    "    result = np.zeros_like(x, dtype=float)\n",
    "    \n",
    "    for i in range(len(x)):\n",
    "        start = max(0, i - half_window)\n",
    "        end = min(len(x), i + half_window + 1)\n",
    "        \n",
    "        window = np.concatenate((x[start:i], x[i+1:end]))\n",
    "        \n",
    "        if len(window) > 0:\n",
    "            result[i] = np.mean(window)\n",
    "        else:\n",
    "            result[i] = np.nan\n",
    "    \n",
    "    return result\n",
    "\n",
    "def circ_diff(a, b):\n",
    "    d1 = abs(a - b)\n",
    "    d2 = 1 - d1\n",
    "    return min(d1, d2)"
   ]
  }
 ],
 "metadata": {
  "kernelspec": {
   "display_name": "Python 3 (ipykernel)",
   "language": "python",
   "name": "python3"
  },
  "language_info": {
   "codemirror_mode": {
    "name": "ipython",
    "version": 3
   },
   "file_extension": ".py",
   "mimetype": "text/x-python",
   "name": "python",
   "nbconvert_exporter": "python",
   "pygments_lexer": "ipython3",
   "version": "3.11.4"
  }
 },
 "nbformat": 4,
 "nbformat_minor": 5
}
